{
 "cells": [
  {
   "cell_type": "markdown",
   "metadata": {},
   "source": [
    "# Skip-gram word2vec\n",
    "\n",
    "In this notebook, I'll lead you through using TensorFlow to implement the word2vec algorithm using the skip-gram architecture. By implementing this, you'll learn about embedding words for use in natural language processing. This will come in handy when dealing with things like machine translation.\n",
    "\n",
    "## Readings\n",
    "\n",
    "Here are the resources I used to build this notebook. I suggest reading these either beforehand or while you're working on this material.\n",
    "\n",
    "* A really good [conceptual overview](http://mccormickml.com/2016/04/19/word2vec-tutorial-the-skip-gram-model/) of word2vec from Chris McCormick \n",
    "* [First word2vec paper](https://arxiv.org/pdf/1301.3781.pdf) from Mikolov et al.\n",
    "* [NIPS paper](http://papers.nips.cc/paper/5021-distributed-representations-of-words-and-phrases-and-their-compositionality.pdf) with improvements for word2vec also from Mikolov et al.\n",
    "* An [implementation of word2vec](http://www.thushv.com/natural_language_processing/word2vec-part-1-nlp-with-deep-learning-with-tensorflow-skip-gram/) from Thushan Ganegedara\n",
    "* TensorFlow [word2vec tutorial](https://www.tensorflow.org/tutorials/word2vec)\n",
    "\n",
    "## Word embeddings\n",
    "\n",
    "When you're dealing with words in text, you end up with tens of thousands of classes to predict, one for each word. Trying to one-hot encode these words is massively inefficient, you'll have one element set to 1 and the other 50,000 set to 0. The matrix multiplication going into the first hidden layer will have almost all of the resulting values be zero. This a huge waste of computation. \n",
    "\n",
    "![one-hot encodings](assets/one_hot_encoding.png)\n",
    "\n",
    "To solve this problem and greatly increase the efficiency of our networks, we use what are called embeddings. Embeddings are just a fully connected layer like you've seen before. We call this layer the embedding layer and the weights are embedding weights. We skip the multiplication into the embedding layer by instead directly grabbing the hidden layer values from the weight matrix. We can do this because the multiplication of a one-hot encoded vector with a matrix returns the row of the matrix corresponding the index of the \"on\" input unit.\n",
    "\n",
    "![lookup](assets/lookup_matrix.png)\n",
    "\n",
    "Instead of doing the matrix multiplication, we use the weight matrix as a lookup table. We encode the words as integers, for example \"heart\" is encoded as 958, \"mind\" as 18094. Then to get hidden layer values for \"heart\", you just take the 958th row of the embedding matrix. This process is called an **embedding lookup** and the number of hidden units is the **embedding dimension**.\n",
    "\n",
    "<img src='assets/tokenize_lookup.png' width=500>\n",
    " \n",
    "There is nothing magical going on here. The embedding lookup table is just a weight matrix. The embedding layer is just a hidden layer. The lookup is just a shortcut for the matrix multiplication. The lookup table is trained just like any weight matrix as well.\n",
    "\n",
    "Embeddings aren't only used for words of course. You can use them for any model where you have a massive number of classes. A particular type of model called **Word2Vec** uses the embedding layer to find vector representations of words that contain semantic meaning.\n",
    "\n"
   ]
  },
  {
   "cell_type": "markdown",
   "metadata": {},
   "source": [
    "## Word2Vec\n",
    "\n",
    "The word2vec algorithm finds much more efficient representations by finding vectors that represent the words. These vectors also contain semantic information about the words. Words that show up in similar contexts, such as \"black\", \"white\", and \"red\" will have vectors near each other. There are two architectures for implementing word2vec, CBOW (Continuous Bag-Of-Words) and Skip-gram.\n",
    "\n",
    "<img src=\"assets/word2vec_architectures.png\" width=\"500\">\n",
    "\n",
    "In this implementation, we'll be using the skip-gram architecture because it performs better than CBOW. Here, we pass in a word and try to predict the words surrounding it in the text. In this way, we can train the network to learn representations for words that show up in similar contexts.\n",
    "\n",
    "First up, importing packages."
   ]
  },
  {
   "cell_type": "code",
   "execution_count": 1,
   "metadata": {},
   "outputs": [],
   "source": [
    "import time\n",
    "\n",
    "import numpy as np\n",
    "import tensorflow as tf\n",
    "\n",
    "import utils"
   ]
  },
  {
   "cell_type": "markdown",
   "metadata": {},
   "source": [
    "Load the [text8 dataset](http://mattmahoney.net/dc/textdata.html), a file of cleaned up Wikipedia articles from Matt Mahoney. The next cell will download the data set to the `data` folder. Then you can extract it and delete the archive file to save storage space."
   ]
  },
  {
   "cell_type": "code",
   "execution_count": 2,
   "metadata": {},
   "outputs": [],
   "source": [
    "from urllib.request import urlretrieve\n",
    "from os.path import isfile, isdir\n",
    "from tqdm import tqdm\n",
    "import zipfile\n",
    "\n",
    "dataset_folder_path = 'data'\n",
    "dataset_filename = 'text8.zip'\n",
    "dataset_name = 'Text8 Dataset'\n",
    "\n",
    "class DLProgress(tqdm):\n",
    "    \n",
    "    last_block = 0\n",
    "    \n",
    "    def hook(self, block_num=1, block_size=1, total_size=None):\n",
    "        self.total = total_size\n",
    "        self.update((block_num - self.last_block) * block_size)\n",
    "        self.last_block = block_num\n",
    "        \n",
    "if not isfile(dataset_filename):\n",
    "    with DLProgress(unit='B', unit_scale=True, miniters=1, desc=dataset_name) as pbar:\n",
    "        urlretrieve(\n",
    "            'http://mattmahoney.net/dc/text8.zip',\n",
    "            dataset_filename, \n",
    "            pbar.hook)\n",
    "        \n",
    "if not isdir(dataset_folder_path):\n",
    "    with zipfile.ZipFile(dataset_filename) as zip_ref:\n",
    "        zip_ref.extractall(dataset_folder_path)\n",
    "        \n",
    "with open('data/text8') as f:\n",
    "    text = f.read()"
   ]
  },
  {
   "cell_type": "markdown",
   "metadata": {},
   "source": [
    "## Preprocessing\n",
    "\n",
    "Here I'm fixing up the text to make training easier. This comes from the `utils` module I wrote. The `preprocess` function coverts any punctuation into tokens, so a period is changed to ` <PERIOD> `. In this data set, there aren't any periods, but it will help in other NLP problems. I'm also removing all words that show up five or fewer times in the dataset. This will greatly reduce issues due to noise in the data and improve the quality of the vector representations. If you want to write your own functions for this stuff, go for it."
   ]
  },
  {
   "cell_type": "code",
   "execution_count": 3,
   "metadata": {},
   "outputs": [
    {
     "name": "stdout",
     "output_type": "stream",
     "text": [
      "['anarchism', 'originated', 'as', 'a', 'term', 'of', 'abuse', 'first', 'used', 'against', 'early', 'working', 'class', 'radicals', 'including', 'the', 'diggers', 'of', 'the', 'english', 'revolution', 'and', 'the', 'sans', 'culottes', 'of', 'the', 'french', 'revolution', 'whilst']\n"
     ]
    }
   ],
   "source": [
    "words = utils.preprocess(text)\n",
    "print(words[:30])"
   ]
  },
  {
   "cell_type": "code",
   "execution_count": 4,
   "metadata": {},
   "outputs": [
    {
     "name": "stdout",
     "output_type": "stream",
     "text": [
      "Total words: 16680599\n",
      "Unique words: 63641\n"
     ]
    }
   ],
   "source": [
    "print(\"Total words: {}\".format(len(words)))\n",
    "print(\"Unique words: {}\".format(len(set(words))))"
   ]
  },
  {
   "cell_type": "markdown",
   "metadata": {},
   "source": [
    "And here I'm creating dictionaries to convert words to integers and backwards, integers to words. The integers are assigned in descending frequency order, so the most frequent word (\"the\") is given the integer 0 and the next most frequent is 1 and so on. The words are converted to integers and stored in the list `int_words`."
   ]
  },
  {
   "cell_type": "code",
   "execution_count": 5,
   "metadata": {},
   "outputs": [],
   "source": [
    "vocab_to_int, int_to_vocab = utils.create_lookup_tables(words)\n",
    "int_words = [vocab_to_int[word] for word in words]"
   ]
  },
  {
   "cell_type": "markdown",
   "metadata": {},
   "source": [
    "## Subsampling\n",
    "\n",
    "Words that show up often such as \"the\", \"of\", and \"for\" don't provide much context to the nearby words. If we discard some of them, we can remove some of the noise from our data and in return get faster training and better representations. This process is called subsampling by Mikolov. For each word $w_i$ in the training set, we'll discard it with probability given by \n",
    "\n",
    "$$ P(w_i) = 1 - \\sqrt{\\frac{t}{f(w_i)}} $$\n",
    "\n",
    "where $t$ is a threshold parameter and $f(w_i)$ is the frequency of word $w_i$ in the total dataset.\n",
    "\n",
    "I'm going to leave this up to you as an exercise. This is more of a programming challenge, than about deep learning specifically. But, being able to prepare your data for your network is an important skill to have. Check out my solution to see how I did it.\n",
    "\n",
    "> **Exercise:** Implement subsampling for the words in `int_words`. That is, go through `int_words` and discard each word given the probablility $P(w_i)$ shown above. Note that $P(w_i)$ is the probability that a word is discarded. Assign the subsampled data to `train_words`."
   ]
  },
  {
   "cell_type": "code",
   "execution_count": 6,
   "metadata": {},
   "outputs": [],
   "source": [
    "## Your code here\n",
    "from collections import Counter\n",
    "import random\n",
    "\n",
    "threshold = 1e-5\n",
    "word_counts = Counter(int_words)\n",
    "tot_words = len(int_words)\n",
    "word_freqs = {word: count/tot_words for word, count in word_counts.items()}\n",
    "p_drop = {word: 1 - np.sqrt(threshold / freq) for word, freq in word_freqs.items()}\n",
    "\n",
    "train_words = [word for word in int_words if random.random() > p_drop[word]]"
   ]
  },
  {
   "cell_type": "markdown",
   "metadata": {},
   "source": [
    "## Making batches"
   ]
  },
  {
   "cell_type": "markdown",
   "metadata": {},
   "source": [
    "Now that our data is in good shape, we need to get it into the proper form to pass it into our network. With the skip-gram architecture, for each word in the text, we want to grab all the words in a window around that word, with size $C$. \n",
    "\n",
    "From [Mikolov et al.](https://arxiv.org/pdf/1301.3781.pdf): \n",
    "\n",
    "\"Since the more distant words are usually less related to the current word than those close to it, we give less weight to the distant words by sampling less from those words in our training examples... If we choose $C = 5$, for each training word we will select randomly a number $R$ in range $< 1; C >$, and then use $R$ words from history and $R$ words from the future of the current word as correct labels.\"\n",
    "\n",
    "> **Exercise:** Implement a function `get_target` that receives a list of words, an index, and a window size, then returns a list of words in the window around the index. Make sure to use the algorithm described above, where you choose a random number of words from the window."
   ]
  },
  {
   "cell_type": "code",
   "execution_count": 7,
   "metadata": {},
   "outputs": [],
   "source": [
    "def get_target(words, idx, window_size=5):\n",
    "    ''' Get a list of words in a window around an index. '''\n",
    "    \n",
    "    # Your code here\n",
    "    rand_num = random.randint(1, window_size)\n",
    "    start_idx = idx - rand_num if idx - rand_num > 0 else 0\n",
    "    end_idx = idx + rand_num + 1\n",
    "    # Set with unique words\n",
    "    target = set(words[start_idx:end_idx])\n",
    "    # Remove current word\n",
    "    target.remove(words[idx])\n",
    "    \n",
    "    return list(target)"
   ]
  },
  {
   "cell_type": "markdown",
   "metadata": {},
   "source": [
    "Here's a function that returns batches for our network. The idea is that it grabs `batch_size` words from a words list. Then for each of those words, it gets the target words in the window. I haven't found a way to pass in a random number of target words and get it to work with the architecture, so I make one row per input-target pair. This is a generator function by the way, helps save memory."
   ]
  },
  {
   "cell_type": "code",
   "execution_count": 8,
   "metadata": {},
   "outputs": [],
   "source": [
    "def get_batches(words, batch_size, window_size=5):\n",
    "    \"\"\"Create a generator of word batches as a tuple (input, targets)\"\"\"\n",
    "    \n",
    "    n_batches = len(words)//batch_size\n",
    "    \n",
    "    # Only full batches\n",
    "    words = words[:n_batches*batch_size]\n",
    "    \n",
    "    for idx in range(0, len(words), batch_size):\n",
    "        x, y = [], []\n",
    "        batch = words[idx:idx+batch_size]\n",
    "        for ii in range(len(batch)):\n",
    "            batch_x = batch[ii]\n",
    "            batch_y = get_target(batch, ii, window_size)\n",
    "            y.extend(batch_y)\n",
    "            x.extend([batch_x]*len(batch_y))\n",
    "        yield x, y"
   ]
  },
  {
   "cell_type": "markdown",
   "metadata": {},
   "source": [
    "## Building the graph\n",
    "\n",
    "From [Chris McCormick's blog](http://mccormickml.com/2016/04/19/word2vec-tutorial-the-skip-gram-model/), we can see the general structure of our network.\n",
    "![embedding_network](./assets/skip_gram_net_arch.png)\n",
    "\n",
    "The input words are passed in as integers. This will go into a hidden layer of linear units, then into a softmax layer. We'll use the softmax layer to make a prediction like normal.\n",
    "\n",
    "The idea here is to train the hidden layer weight matrix to find efficient representations for our words. We can discard the softmax layer becuase we don't really care about making predictions with this network. We just want the embedding matrix so we can use it in other networks we build from the dataset.\n",
    "\n",
    "I'm going to have you build the graph in stages now. First off, creating the `inputs` and `labels` placeholders like normal.\n",
    "\n",
    "> **Exercise:** Assign `inputs` and `labels` using `tf.placeholder`. We're going to be passing in integers, so set the data types to `tf.int32`. The batches we're passing in will have varying sizes, so set the batch sizes to [`None`]. To make things work later, you'll need to set the second dimension of `labels` to `None` or `1`."
   ]
  },
  {
   "cell_type": "code",
   "execution_count": 9,
   "metadata": {},
   "outputs": [],
   "source": [
    "train_graph = tf.Graph()\n",
    "with train_graph.as_default():\n",
    "    inputs = tf.placeholder(tf.int32, [None], name='inputs')\n",
    "    labels = tf.placeholder(tf.int32, [None, None], name='labels')"
   ]
  },
  {
   "cell_type": "markdown",
   "metadata": {},
   "source": [
    "## Embedding\n",
    "\n"
   ]
  },
  {
   "cell_type": "markdown",
   "metadata": {},
   "source": [
    "The embedding matrix has a size of the number of words by the number of units in the hidden layer. So, if you have 10,000 words and 300 hidden units, the matrix will have size $10,000 \\times 300$. Remember that we're using tokenized data for our inputs, usually as integers, where the number of tokens is the number of words in our vocabulary.\n",
    "\n",
    "\n",
    "> **Exercise:** Tensorflow provides a convenient function [`tf.nn.embedding_lookup`](https://www.tensorflow.org/api_docs/python/tf/nn/embedding_lookup) that does this lookup for us. You pass in the embedding matrix and a tensor of integers, then it returns rows in the matrix corresponding to those integers. Below, set the number of embedding features you'll use (200 is a good start), create the embedding matrix variable, and use `tf.nn.embedding_lookup` to get the embedding tensors. For the embedding matrix, I suggest you initialize it with a uniform random numbers between -1 and 1 using [tf.random_uniform](https://www.tensorflow.org/api_docs/python/tf/random_uniform)."
   ]
  },
  {
   "cell_type": "code",
   "execution_count": 10,
   "metadata": {},
   "outputs": [],
   "source": [
    "n_vocab = len(int_to_vocab)\n",
    "n_embedding = 200 # Number of embedding features \n",
    "with train_graph.as_default():\n",
    "    # create embedding weight matrix here\n",
    "    embedding = tf.Variable(tf.random_uniform((n_vocab, n_embedding), -1, 1))\n",
    "    # use tf.nn.embedding_lookup to get the hidden layer output\n",
    "    embed = tf.nn.embedding_lookup(embedding, inputs)"
   ]
  },
  {
   "cell_type": "markdown",
   "metadata": {},
   "source": [
    "## Negative sampling\n",
    "\n"
   ]
  },
  {
   "cell_type": "markdown",
   "metadata": {},
   "source": [
    "For every example we give the network, we train it using the output from the softmax layer. That means for each input, we're making very small changes to millions of weights even though we only have one true example. This makes training the network very inefficient. We can approximate the loss from the softmax layer by only updating a small subset of all the weights at once. We'll update the weights for the correct label, but only a small number of incorrect labels. This is called [\"negative sampling\"](http://papers.nips.cc/paper/5021-distributed-representations-of-words-and-phrases-and-their-compositionality.pdf). Tensorflow has a convenient function to do this, [`tf.nn.sampled_softmax_loss`](https://www.tensorflow.org/api_docs/python/tf/nn/sampled_softmax_loss).\n",
    "\n",
    "> **Exercise:** Below, create weights and biases for the softmax layer. Then, use [`tf.nn.sampled_softmax_loss`](https://www.tensorflow.org/api_docs/python/tf/nn/sampled_softmax_loss) to calculate the loss. Be sure to read the documentation to figure out how it works."
   ]
  },
  {
   "cell_type": "code",
   "execution_count": 11,
   "metadata": {},
   "outputs": [],
   "source": [
    "# Number of negative labels to sample\n",
    "n_sampled = 100\n",
    "with train_graph.as_default():\n",
    "    softmax_w = tf.Variable(tf.truncated_normal((n_vocab, n_embedding), stddev=0.1))\n",
    "    softmax_b = tf.Variable(tf.zeros(n_vocab))\n",
    "    \n",
    "    # Calculate the loss using negative sampling\n",
    "    loss = tf.nn.sampled_softmax_loss(softmax_w, softmax_b, labels, embed, n_sampled, n_vocab)\n",
    "    \n",
    "    cost = tf.reduce_mean(loss)\n",
    "    optimizer = tf.train.AdamOptimizer().minimize(cost)"
   ]
  },
  {
   "cell_type": "markdown",
   "metadata": {},
   "source": [
    "## Validation\n",
    "\n",
    "This code is from Thushan Ganegedara's implementation. Here we're going to choose a few common words and few uncommon words. Then, we'll print out the closest words to them. It's a nice way to check that our embedding table is grouping together words with similar semantic meanings."
   ]
  },
  {
   "cell_type": "code",
   "execution_count": 12,
   "metadata": {},
   "outputs": [],
   "source": [
    "with train_graph.as_default():\n",
    "    \n",
    "    # From Thushan Ganegedara's implementation\n",
    "    valid_size = 16 # Random set of words to evaluate similarity on.\n",
    "    valid_window = 100\n",
    "    \n",
    "    # pick 8 samples from (0, 100) and (1000, 1100) each ranges. lower id implies more frequent\n",
    "    valid_examples = np.array(random.sample(range(valid_window), valid_size//2))\n",
    "    valid_examples = np.append(\n",
    "        valid_examples, random .sample(range(1000, 1100+valid_window), valid_size//2))\n",
    "        \n",
    "    valid_dataset = tf.constant(valid_examples, dtype=tf.int32)\n",
    "        \n",
    "    # Cosine distance\n",
    "    norm = tf.sqrt(tf.reduce_sum(tf.square(embedding), 1, keep_dims=True))\n",
    "    normalized_embedding = embedding / norm\n",
    "    valid_embedding = tf.nn.embedding_lookup(normalized_embedding, valid_dataset)\n",
    "    similarity = tf.matmul(valid_embedding, tf.transpose(normalized_embedding))        "
   ]
  },
  {
   "cell_type": "code",
   "execution_count": null,
   "metadata": {},
   "outputs": [],
   "source": [
    "# If the checkpoints directory doesn't exist:\n",
    "!mkdir checkpoints"
   ]
  },
  {
   "cell_type": "markdown",
   "metadata": {},
   "source": [
    "## Training\n",
    "\n",
    "Below is the code to train the network. Every 100 batches it reports the training loss. Every 1000 batches, it'll print out the validation words."
   ]
  },
  {
   "cell_type": "code",
   "execution_count": null,
   "metadata": {},
   "outputs": [
    {
     "name": "stdout",
     "output_type": "stream",
     "text": [
      "Epoch 1/10 Iteration: 100 Avg. Training loss: 5.6751 0.0835 sec/batch\n",
      "Epoch 1/10 Iteration: 200 Avg. Training loss: 5.6313 0.0781 sec/batch\n",
      "Epoch 1/10 Iteration: 300 Avg. Training loss: 5.5156 0.0780 sec/batch\n",
      "Epoch 1/10 Iteration: 400 Avg. Training loss: 5.6084 0.0783 sec/batch\n",
      "Epoch 1/10 Iteration: 500 Avg. Training loss: 5.5567 0.0780 sec/batch\n",
      "Epoch 1/10 Iteration: 600 Avg. Training loss: 5.5723 0.0782 sec/batch\n",
      "Epoch 1/10 Iteration: 700 Avg. Training loss: 5.5953 0.0780 sec/batch\n",
      "Epoch 1/10 Iteration: 800 Avg. Training loss: 5.5174 0.0790 sec/batch\n",
      "Epoch 1/10 Iteration: 900 Avg. Training loss: 5.5002 0.0803 sec/batch\n",
      "Epoch 1/10 Iteration: 1000 Avg. Training loss: 5.4389 0.0821 sec/batch\n",
      "Nearest to for: capacity, plasma, concept, wafl, pm, chained, semiotic, spinal,\n",
      "Nearest to but: pieter, admonitions, palm, detective, rivi, hydrography, victors, windsurfing,\n",
      "Nearest to three: accumulating, florentia, nderzeit, plovdiv, crunch, optic, lightly, nilsson,\n",
      "Nearest to many: affiliation, vases, ronald, companionate, biel, harmonica, ric, fundamentals,\n",
      "Nearest to on: environmentalism, sindhu, harel, peaking, zier, swim, garnets, seraphim,\n",
      "Nearest to d: characteristics, meaning, sanction, engagements, cores, electrolytic, prescribing, mokhehle,\n",
      "Nearest to while: potters, berets, pacing, optimizing, drills, coase, universitaire, shores,\n",
      "Nearest to new: velasco, malevolent, catamarans, busy, bottom, transporter, schelling, proof,\n",
      "Nearest to scale: bps, row, clean, rico, tria, undecidable, clambake, penetrative,\n",
      "Nearest to creation: davidovsky, breaks, jourdain, winthrop, tempered, spectroscopy, extremists, lamiales,\n",
      "Nearest to bill: condita, skelter, almanack, pederastic, bamboo, kenney, kohn, separator,\n",
      "Nearest to techniques: solvents, lancers, baptise, waldo, drummers, dandyism, fabricating, ndel,\n",
      "Nearest to report: profiting, revealed, martyrium, bolted, modesty, ramsey, mcdivitt, bidder,\n",
      "Nearest to primarily: eero, appropriateness, longhorn, phenomenon, prototype, condon, prized, repelled,\n",
      "Nearest to defense: wiccans, abbie, grenadines, ocho, supremely, transmuted, battleground, parade,\n",
      "Nearest to duke: leitch, tonga, machiavelli, arrigo, glorify, narn, douro, ender,\n",
      "Epoch 1/10 Iteration: 1100 Avg. Training loss: 5.5016 0.0841 sec/batch\n",
      "Epoch 1/10 Iteration: 1200 Avg. Training loss: 5.3811 0.0835 sec/batch\n",
      "Epoch 1/10 Iteration: 1300 Avg. Training loss: 5.3582 0.0853 sec/batch\n",
      "Epoch 1/10 Iteration: 1400 Avg. Training loss: 5.2711 0.0852 sec/batch\n",
      "Epoch 1/10 Iteration: 1500 Avg. Training loss: 5.1883 0.0849 sec/batch\n",
      "Epoch 1/10 Iteration: 1600 Avg. Training loss: 5.1826 0.0856 sec/batch\n",
      "Epoch 1/10 Iteration: 1700 Avg. Training loss: 5.1305 0.0862 sec/batch\n",
      "Epoch 1/10 Iteration: 1800 Avg. Training loss: 5.0685 0.0864 sec/batch\n",
      "Epoch 1/10 Iteration: 1900 Avg. Training loss: 5.0235 0.0865 sec/batch\n",
      "Epoch 1/10 Iteration: 2000 Avg. Training loss: 5.0140 0.0863 sec/batch\n",
      "Nearest to for: concept, capacity, plasma, pm, different, spinal, carried, landmarks,\n",
      "Nearest to but: pieter, palm, detective, may, chip, government, admonitions, victors,\n",
      "Nearest to three: accumulating, florentia, environment, optic, websites, rank, lightly, kernel,\n",
      "Nearest to many: ronald, affiliation, digital, songs, biel, shifts, collection, place,\n",
      "Nearest to on: death, environmentalism, swim, peaking, mph, garnets, sindhu, grounds,\n",
      "Nearest to d: characteristics, meaning, sanction, cores, engagements, electrolytic, characteristic, maps,\n",
      "Nearest to while: potters, de, optimizing, pacing, america, mesozoic, uniform, drills,\n",
      "Nearest to new: malevolent, velasco, faster, bottom, busy, proof, walking, last,\n",
      "Nearest to scale: row, clean, bps, undecidable, rico, creativity, collectors, marginal,\n",
      "Nearest to creation: davidovsky, breaks, spectroscopy, autumn, winthrop, viewed, ajanta, stranding,\n",
      "Nearest to bill: skelter, condita, german, grown, attitude, kenney, southend, pederastic,\n",
      "Nearest to techniques: solvents, lancers, below, fabricating, payments, baptise, tropical, drummers,\n",
      "Nearest to report: profiting, revealed, dictionary, martyrium, ramsey, thereof, streaming, freedoms,\n",
      "Nearest to primarily: phenomenon, prototype, eero, reflects, appropriateness, prized, improving, fingerprints,\n",
      "Nearest to defense: wiccans, parade, suppose, abbie, transmuted, airliners, supremely, ante,\n",
      "Nearest to duke: leitch, tonga, narn, constituent, vengeance, nisan, middletown, machiavelli,\n",
      "Epoch 1/10 Iteration: 2100 Avg. Training loss: 4.9626 0.0887 sec/batch\n",
      "Epoch 1/10 Iteration: 2200 Avg. Training loss: 4.9084 0.0873 sec/batch\n",
      "Epoch 1/10 Iteration: 2300 Avg. Training loss: 4.8842 0.0877 sec/batch\n",
      "Epoch 1/10 Iteration: 2400 Avg. Training loss: 4.8705 0.0876 sec/batch\n",
      "Epoch 1/10 Iteration: 2500 Avg. Training loss: 4.8427 0.0880 sec/batch\n",
      "Epoch 1/10 Iteration: 2600 Avg. Training loss: 4.8302 0.0877 sec/batch\n",
      "Epoch 1/10 Iteration: 2700 Avg. Training loss: 4.8074 0.0876 sec/batch\n",
      "Epoch 1/10 Iteration: 2800 Avg. Training loss: 4.8130 0.0879 sec/batch\n",
      "Epoch 1/10 Iteration: 2900 Avg. Training loss: 4.7898 0.0876 sec/batch\n",
      "Epoch 1/10 Iteration: 3000 Avg. Training loss: 4.7826 0.0881 sec/batch\n",
      "Nearest to for: plasma, pm, concept, chained, capacity, spinal, borne, socio,\n",
      "Nearest to but: pieter, detective, palm, admonitions, mosaic, hydrography, uc, chip,\n",
      "Nearest to three: accumulating, websites, florentia, georg, grep, liechtenstein, rotates, lightly,\n",
      "Nearest to many: affiliation, fundamentals, ronald, songs, shifts, asylum, digital, responding,\n",
      "Nearest to on: environmentalism, swim, death, sindhu, peaking, mph, seraphim, garnets,\n",
      "Nearest to d: ludwig, characteristics, sanction, engagements, maps, emits, electrolytic, denies,\n",
      "Nearest to while: potters, drills, optimizing, pacing, berets, naming, confuse, mesozoic,\n",
      "Nearest to new: velasco, busy, malevolent, faster, walking, proof, last, prejudices,\n",
      "Nearest to scale: clean, row, undecidable, rico, governance, speeches, creativity, bps,\n",
      "Nearest to creation: davidovsky, spectroscopy, breaks, autumn, tempered, viewed, winthrop, jourdain,\n",
      "Nearest to bill: grown, german, skelter, condita, attitude, bamboo, q, veterans,\n",
      "Nearest to techniques: solvents, lancers, hebrews, baptise, fabricating, waldo, ndel, fun,\n",
      "Nearest to report: profiting, revealed, dictionary, vain, martyrium, ramsey, streaming, hay,\n",
      "Nearest to primarily: phenomenon, eero, appropriateness, prototype, reflects, improving, prized, fingerprints,\n",
      "Nearest to defense: wiccans, parade, supremely, abbie, suppose, switzerland, paleolithic, battleground,\n",
      "Nearest to duke: tonga, leitch, constituent, narn, machiavelli, urging, nisan, abolition,\n",
      "Epoch 1/10 Iteration: 3100 Avg. Training loss: 4.7868 0.0892 sec/batch\n",
      "Epoch 1/10 Iteration: 3200 Avg. Training loss: 4.7808 0.0892 sec/batch\n",
      "Epoch 1/10 Iteration: 3300 Avg. Training loss: 4.7403 0.0891 sec/batch\n",
      "Epoch 1/10 Iteration: 3400 Avg. Training loss: 4.7275 0.0889 sec/batch\n",
      "Epoch 1/10 Iteration: 3500 Avg. Training loss: 4.7609 0.0895 sec/batch\n",
      "Epoch 1/10 Iteration: 3600 Avg. Training loss: 4.7212 0.0887 sec/batch\n",
      "Epoch 1/10 Iteration: 3700 Avg. Training loss: 4.7282 0.0886 sec/batch\n",
      "Epoch 1/10 Iteration: 3800 Avg. Training loss: 4.7206 0.0892 sec/batch\n",
      "Epoch 1/10 Iteration: 3900 Avg. Training loss: 4.7065 0.0891 sec/batch\n",
      "Epoch 1/10 Iteration: 4000 Avg. Training loss: 4.6951 0.0888 sec/batch\n",
      "Nearest to for: plasma, concept, pm, chained, socio, jem, capacity, ab,\n",
      "Nearest to but: pieter, palm, mosaic, admonitions, detective, hydrography, uc, shoot,\n",
      "Nearest to three: five, georg, accumulating, websites, florentia, grep, six, liechtenstein,\n",
      "Nearest to many: affiliation, fundamentals, responding, harmonica, ric, tangible, companionate, songs,\n",
      "Nearest to on: environmentalism, swim, sindhu, kuomintang, peaking, death, garnets, grounds,\n",
      "Nearest to d: ludwig, b, engagements, maps, sanction, plo, laureate, swiss,\n",
      "Nearest to while: potters, pacing, drills, symbolized, berets, coase, optimizing, mesozoic,\n",
      "Nearest to new: velasco, busy, malevolent, last, sinaltrainal, moorish, walking, faster,\n",
      "Nearest to scale: clean, undecidable, usefulness, row, bps, governance, creativity, publicise,\n",
      "Nearest to creation: davidovsky, czechoslovakia, extremists, spectroscopy, autumn, viewed, jourdain, winthrop,\n",
      "Nearest to bill: condita, gne, pederastic, german, veterans, scarcely, purposefully, separator,\n",
      "Nearest to techniques: solvents, lancers, fabricating, hebrews, baptise, waldo, conditional, dramatically,\n",
      "Nearest to report: profiting, revealed, modesty, hay, martyrium, vain, ramsey, bolted,\n",
      "Nearest to primarily: phenomenon, appropriateness, condon, eero, longhorn, reflects, prototype, metallica,\n",
      "Nearest to defense: wiccans, abbie, supremely, battleground, clippers, paleolithic, parade, nsdap,\n",
      "Nearest to duke: tonga, leitch, narn, glorify, constituent, urging, machiavelli, nisan,\n"
     ]
    }
   ],
   "source": [
    "epochs = 10\n",
    "batch_size = 1000\n",
    "window_size = 10\n",
    "\n",
    "with train_graph.as_default():\n",
    "    saver = tf.train.Saver()\n",
    "\n",
    "with tf.Session(graph=train_graph) as sess:\n",
    "    iteration = 1\n",
    "    loss = 0\n",
    "    sess.run(tf.global_variables_initializer())\n",
    "\n",
    "    for e in range(1, epochs+1):\n",
    "        batches = get_batches(train_words, batch_size, window_size)\n",
    "        start = time.time()\n",
    "        for x, y in batches:\n",
    "            \n",
    "            feed = {inputs: x,\n",
    "                    labels: np.array(y)[:, None]}\n",
    "            train_loss, _ = sess.run([cost, optimizer], feed_dict=feed)\n",
    "            \n",
    "            loss += train_loss\n",
    "            \n",
    "            if iteration % 100 == 0: \n",
    "                end = time.time()\n",
    "                print(\"Epoch {}/{}\".format(e, epochs),\n",
    "                      \"Iteration: {}\".format(iteration),\n",
    "                      \"Avg. Training loss: {:.4f}\".format(loss/100),\n",
    "                      \"{:.4f} sec/batch\".format((end-start)/100))\n",
    "                loss = 0\n",
    "                start = time.time()\n",
    "            \n",
    "            if iteration % 1000 == 0:\n",
    "                # note that this is expensive (~20% slowdown if computed every 500 steps)\n",
    "                sim = similarity.eval()\n",
    "                for i in range(valid_size):\n",
    "                    valid_word = int_to_vocab[valid_examples[i]]\n",
    "                    top_k = 8 # number of nearest neighbors\n",
    "                    nearest = (-sim[i, :]).argsort()[1:top_k+1]\n",
    "                    log = 'Nearest to %s:' % valid_word\n",
    "                    for k in range(top_k):\n",
    "                        close_word = int_to_vocab[nearest[k]]\n",
    "                        log = '%s %s,' % (log, close_word)\n",
    "                    print(log)\n",
    "            \n",
    "            iteration += 1\n",
    "    save_path = saver.save(sess, \"checkpoints/text8.ckpt\")\n",
    "    embed_mat = sess.run(normalized_embedding)"
   ]
  },
  {
   "cell_type": "markdown",
   "metadata": {},
   "source": [
    "Restore the trained network if you need to:"
   ]
  },
  {
   "cell_type": "code",
   "execution_count": null,
   "metadata": {},
   "outputs": [],
   "source": [
    "with train_graph.as_default():\n",
    "    saver = tf.train.Saver()\n",
    "\n",
    "with tf.Session(graph=train_graph) as sess:\n",
    "    saver.restore(sess, tf.train.latest_checkpoint('checkpoints'))\n",
    "    embed_mat = sess.run(embedding)"
   ]
  },
  {
   "cell_type": "markdown",
   "metadata": {},
   "source": [
    "## Visualizing the word vectors\n",
    "\n",
    "Below we'll use T-SNE to visualize how our high-dimensional word vectors cluster together. T-SNE is used to project these vectors into two dimensions while preserving local stucture. Check out [this post from Christopher Olah](http://colah.github.io/posts/2014-10-Visualizing-MNIST/) to learn more about T-SNE and other ways to visualize high-dimensional data."
   ]
  },
  {
   "cell_type": "code",
   "execution_count": null,
   "metadata": {},
   "outputs": [],
   "source": [
    "%matplotlib inline\n",
    "%config InlineBackend.figure_format = 'retina'\n",
    "\n",
    "import matplotlib.pyplot as plt\n",
    "from sklearn.manifold import TSNE"
   ]
  },
  {
   "cell_type": "code",
   "execution_count": null,
   "metadata": {},
   "outputs": [],
   "source": [
    "viz_words = 500\n",
    "tsne = TSNE()\n",
    "embed_tsne = tsne.fit_transform(embed_mat[:viz_words, :])"
   ]
  },
  {
   "cell_type": "code",
   "execution_count": null,
   "metadata": {},
   "outputs": [],
   "source": [
    "fig, ax = plt.subplots(figsize=(14, 14))\n",
    "for idx in range(viz_words):\n",
    "    plt.scatter(*embed_tsne[idx, :], color='steelblue')\n",
    "    plt.annotate(int_to_vocab[idx], (embed_tsne[idx, 0], embed_tsne[idx, 1]), alpha=0.7)"
   ]
  }
 ],
 "metadata": {
  "kernelspec": {
   "display_name": "Python 3",
   "language": "python",
   "name": "python3"
  },
  "language_info": {
   "codemirror_mode": {
    "name": "ipython",
    "version": 3
   },
   "file_extension": ".py",
   "mimetype": "text/x-python",
   "name": "python",
   "nbconvert_exporter": "python",
   "pygments_lexer": "ipython3",
   "version": "3.5.2"
  }
 },
 "nbformat": 4,
 "nbformat_minor": 2
}
